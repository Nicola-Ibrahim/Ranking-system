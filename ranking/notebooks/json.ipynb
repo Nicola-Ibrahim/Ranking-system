{
 "cells": [
  {
   "cell_type": "code",
   "execution_count": 12,
   "metadata": {},
   "outputs": [],
   "source": [
    "import json\n",
    "import pandas as pd"
   ]
  },
  {
   "cell_type": "code",
   "execution_count": 13,
   "metadata": {},
   "outputs": [],
   "source": [
    "\n",
    "with open(\"../data/raw/spaces_dummy_data_v3.json\", mode=\"r\") as f:\n",
    "    file = json.load(f)\n"
   ]
  },
  {
   "cell_type": "code",
   "execution_count": 83,
   "metadata": {},
   "outputs": [
    {
     "name": "stdout",
     "output_type": "stream",
     "text": [
      "<class 'pandas.core.frame.DataFrame'>\n",
      "RangeIndex: 6 entries, 0 to 5\n",
      "Data columns (total 6 columns):\n",
      " #   Column               Non-Null Count  Dtype          \n",
      "---  ------               --------------  -----          \n",
      " 0   start                6 non-null      datetime64[ns] \n",
      " 1   end                  6 non-null      datetime64[ns] \n",
      " 2   cancellable          6 non-null      int32          \n",
      " 3   id                   6 non-null      object         \n",
      " 4   day                  6 non-null      period[D]      \n",
      " 5   cancellable_percent  6 non-null      timedelta64[ns]\n",
      "dtypes: datetime64[ns](2), int32(1), object(1), period[D](1), timedelta64[ns](1)\n",
      "memory usage: 392.0+ bytes\n"
     ]
    }
   ],
   "source": [
    "dd = pd.json_normalize(file, record_path=[\"available_dates\"], meta=[\"id\"])\n",
    "\n",
    "\n",
    "dd['start'] = pd.to_datetime(dd['start'])\n",
    "dd['end'] = pd.to_datetime(dd['end'])\n",
    "\n",
    "dd['day'] = dd['start'].dt.to_period('d')\n",
    "\n",
    "dd\n",
    "dd.set_index([\"id\",\"day\"])\n",
    "dd['cancellable'] = dd['cancellable'].astype(int)\n",
    "dd['cancellable_percent'] = dd['end'] - dd['start']\n",
    "dd['cancellable_percent'] = dd['cancellable_percent']\n",
    "dd.info()"
   ]
  },
  {
   "cell_type": "code",
   "execution_count": null,
   "metadata": {},
   "outputs": [],
   "source": []
  }
 ],
 "metadata": {
  "kernelspec": {
   "display_name": ".venv",
   "language": "python",
   "name": "python3"
  },
  "language_info": {
   "codemirror_mode": {
    "name": "ipython",
    "version": 3
   },
   "file_extension": ".py",
   "mimetype": "text/x-python",
   "name": "python",
   "nbconvert_exporter": "python",
   "pygments_lexer": "ipython3",
   "version": "3.11.1"
  },
  "orig_nbformat": 4
 },
 "nbformat": 4,
 "nbformat_minor": 2
}
